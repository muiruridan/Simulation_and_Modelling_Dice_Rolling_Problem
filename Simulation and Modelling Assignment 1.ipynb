{
 "cells": [
  {
   "cell_type": "code",
   "execution_count": 8,
   "metadata": {},
   "outputs": [
    {
     "name": "stdout",
     "output_type": "stream",
     "text": [
      "____________________________________________\n",
      "\n",
      "| Face    |   Frequency   |    Percentage   |\n",
      "____________________________________________\n",
      "|    1    |      160      |      16.0%      |\n",
      "|    2    |      152      |      15.2%      |\n",
      "|    3    |      172      |      17.2%      |\n",
      "|    4    |      160      |      16.0%      |\n",
      "|    5    |      167      |      16.7%      |\n",
      "|    6    |      189      |      18.9%      |\n",
      "|___________________________________________|\n",
      "\n",
      "|  Total  |     1000      |      100%       |\n",
      "____________________________________________\n"
     ]
    }
   ],
   "source": [
    "#!/usr/bin/python3\n",
    "# A python program that simulates rolling of a dice 1000 times, generates random numbers and outputs the required results\n",
    "# in a table.\n",
    "\n",
    "# import random\n",
    "import random\n",
    "\n",
    "# variable declarations\n",
    "count = 0\n",
    "\n",
    "face1 = 0\n",
    "face2 = 0\n",
    "face3 = 0\n",
    "face4 = 0\n",
    "face5 = 0\n",
    "face6 = 0\n",
    "\n",
    "# Defining a getRandomNumber method.\n",
    "def getRandomNumber(num):\n",
    "    global face1, face2, face3, face4, face5, face6\n",
    "    \n",
    "    # Defining the ranges for the faces of the dice.\n",
    "    if num >= 0 and num < 1/6:\n",
    "        face1 += 1\n",
    "    elif num >= 1/6 and num < 2/6:\n",
    "        face2 += 1\n",
    "    elif num >= 2/6 and num < 3/6:\n",
    "        face3 += 1\n",
    "    elif num >= 3/6 and num < 4/6:\n",
    "        face4 += 1\n",
    "    elif num >= 4/6 and num < 5/6:\n",
    "        face5 += 1\n",
    "    elif num >= 5/6 and num < 1:\n",
    "        face6 += 1\n",
    "        \n",
    "# A for loop that generates 1000 random numbers.\n",
    "for i in range(0,1000):\n",
    "    result = random.random()\n",
    "    getRandomNumber(result)\n",
    "    count += 1\n",
    "\n",
    "# Initializing an array that holds the values for the faces.\n",
    "array = [face1, face2, face3, face4, face5, face6]\n",
    "\n",
    "# Getting the total sum of the faces.\n",
    "total_sum = face1 + face2 + face3 + face4 + face5 + face6\n",
    "\n",
    "# Declaring the total percentage (100) variable and initializing it to zero.\n",
    "total_percentage = 0\n",
    "\n",
    "\n",
    "\n",
    "# Printing the table of values\n",
    "print(\"____________________________________________\")\n",
    "print()\n",
    "print(\"| Face    |   Frequency   |    Percentage   |\")\n",
    "print(\"____________________________________________\")\n",
    "\n",
    "# A for loop that iterates the value generated for each face, calculates the total percentage as \n",
    "# (value of face / total number of values (1000).\n",
    "\n",
    "# The variables percentage is used to hold the percentage of each face and total_percentage holds \n",
    "# the summation of the percentages (100%).\n",
    "for value in range(1, 7):\n",
    "    percentage = round(((array[value-1]/total_sum) * 100), 1)\n",
    "    total_percentage += percentage\n",
    "    \n",
    "    print(f\"|    {value}    |      {array[value-1]}      |      {percentage}%      |\")\n",
    "print(\"|___________________________________________|\")\n",
    "print()\n",
    "print(\n",
    "    f\"|  Total  |     {total_sum}      |      {round(total_percentage)}%       |\")\n",
    "print(\"____________________________________________\")"
   ]
  },
  {
   "cell_type": "code",
   "execution_count": null,
   "metadata": {},
   "outputs": [],
   "source": []
  },
  {
   "cell_type": "code",
   "execution_count": null,
   "metadata": {},
   "outputs": [],
   "source": []
  },
  {
   "cell_type": "code",
   "execution_count": null,
   "metadata": {},
   "outputs": [],
   "source": [
    "\n"
   ]
  },
  {
   "cell_type": "code",
   "execution_count": null,
   "metadata": {},
   "outputs": [],
   "source": []
  },
  {
   "cell_type": "code",
   "execution_count": null,
   "metadata": {},
   "outputs": [],
   "source": []
  }
 ],
 "metadata": {
  "kernelspec": {
   "display_name": "Python 3 (ipykernel)",
   "language": "python",
   "name": "python3"
  },
  "language_info": {
   "codemirror_mode": {
    "name": "ipython",
    "version": 3
   },
   "file_extension": ".py",
   "mimetype": "text/x-python",
   "name": "python",
   "nbconvert_exporter": "python",
   "pygments_lexer": "ipython3",
   "version": "3.11.4"
  }
 },
 "nbformat": 4,
 "nbformat_minor": 4
}
